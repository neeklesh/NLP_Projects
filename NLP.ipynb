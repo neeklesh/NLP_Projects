{
  "nbformat": 4,
  "nbformat_minor": 0,
  "metadata": {
    "colab": {
      "provenance": [],
      "authorship_tag": "ABX9TyMGjSa3QLnbOmeqPAR+H0SO",
      "include_colab_link": true
    },
    "kernelspec": {
      "name": "python3",
      "display_name": "Python 3"
    },
    "language_info": {
      "name": "python"
    }
  },
  "cells": [
    {
      "cell_type": "markdown",
      "metadata": {
        "id": "view-in-github",
        "colab_type": "text"
      },
      "source": [
        "<a href=\"https://colab.research.google.com/github/neeklesh/NLP_Projects/blob/main/NLP.ipynb\" target=\"_parent\"><img src=\"https://colab.research.google.com/assets/colab-badge.svg\" alt=\"Open In Colab\"/></a>"
      ]
    },
    {
      "cell_type": "code",
      "execution_count": null,
      "metadata": {
        "colab": {
          "base_uri": "https://localhost:8080/"
        },
        "id": "cMvaHwGx0t2R",
        "outputId": "d729644d-cea4-4645-a066-a35193d39ce0"
      },
      "outputs": [
        {
          "output_type": "stream",
          "name": "stderr",
          "text": [
            "[nltk_data] Downloading package punkt to /root/nltk_data...\n",
            "[nltk_data]   Unzipping tokenizers/punkt.zip.\n",
            "[nltk_data] Downloading package stopwords to /root/nltk_data...\n",
            "[nltk_data]   Unzipping corpora/stopwords.zip.\n"
          ]
        },
        {
          "output_type": "execute_result",
          "data": {
            "text/plain": [
              "True"
            ]
          },
          "metadata": {},
          "execution_count": 1
        }
      ],
      "source": [
        "import nltk\n",
        "nltk.download('punkt')\n",
        "nltk.download('stopwords')"
      ]
    },
    {
      "cell_type": "code",
      "source": [
        "paragraph = \"\"\"Humans communicate through some form of language either by text or speech. Now to make interactions between computers and humans, computers need to understand natural languages used by humans. Natural language processing is all about making computers learn, process, and manipulate natural languages.\"\"\""
      ],
      "metadata": {
        "id": "OOU4p1rW2DlL"
      },
      "execution_count": null,
      "outputs": []
    },
    {
      "cell_type": "code",
      "source": [
        "#tokenizing sentences converting paragraph to list of sentences\n",
        "sentences = nltk.sent_tokenize(paragraph)"
      ],
      "metadata": {
        "id": "sBzl_KMs3CxN"
      },
      "execution_count": null,
      "outputs": []
    },
    {
      "cell_type": "code",
      "source": [
        "#tokenizing words converting paragraph to list to words. It takes , or any punctutation also as word.\n",
        "words = nltk.word_tokenize(paragraph)"
      ],
      "metadata": {
        "id": "0sy_vLId3FUC"
      },
      "execution_count": null,
      "outputs": []
    },
    {
      "cell_type": "code",
      "source": [],
      "metadata": {
        "colab": {
          "base_uri": "https://localhost:8080/"
        },
        "id": "IklfiV6h4pjv",
        "outputId": "2e1cee02-02b7-495a-b080-a12a9b16a8e3"
      },
      "execution_count": null,
      "outputs": [
        {
          "output_type": "execute_result",
          "data": {
            "text/plain": [
              "['some', 'form']"
            ]
          },
          "metadata": {},
          "execution_count": 15
        }
      ]
    },
    {
      "cell_type": "code",
      "source": [
        "\n",
        "from nltk.stem import PorterStemmer\n",
        "from nltk.corpus import stopwords"
      ],
      "metadata": {
        "id": "xRPeCM685WrX"
      },
      "execution_count": null,
      "outputs": []
    },
    {
      "cell_type": "code",
      "source": [
        "#stopwords is used to remove the words that are repeated again and again and are of less value in the paragraph. Like for e.g. of, from, the, them etc.\n",
        "#positive and negative sentiment analysis"
      ],
      "metadata": {
        "id": "CGcyxS2U-kFJ"
      },
      "execution_count": null,
      "outputs": []
    },
    {
      "cell_type": "code",
      "source": [
        "stemmer = PorterStemmer() #create an object of porterstemmer"
      ],
      "metadata": {
        "id": "D48_Tf5Z_JvY"
      },
      "execution_count": null,
      "outputs": []
    },
    {
      "cell_type": "code",
      "source": [
        "for i in range(len(sentences)): #range would be between 0 to len of paragraph\n",
        "  words = nltk.word_tokenize(sentences[i]) #then we tokeize each word from the sentences\n",
        "  words = [stemmer.stem(word) for word in words if word not in set(stopwords.words('english'))] #for each and every word in words we iterate .Set will help us to take only the unique set of stop words in english language.\n",
        "  sentences[i] = ' '.join(words) #so it compares if the word in the sentence belongs to english stop words or not. If it doesn not then only it is going to go and do the stem.Finally join the words to form a sentence.\n"
      ],
      "metadata": {
        "id": "BqT1duBV_m-4"
      },
      "execution_count": null,
      "outputs": []
    },
    {
      "cell_type": "code",
      "source": [
        "stopwords.words('english')"
      ],
      "metadata": {
        "id": "EvuXs7kPCVw0",
        "colab": {
          "base_uri": "https://localhost:8080/"
        },
        "outputId": "a4897397-afa3-4ddb-d2c7-ba91ae7e2bf2"
      },
      "execution_count": null,
      "outputs": [
        {
          "output_type": "execute_result",
          "data": {
            "text/plain": [
              "['i',\n",
              " 'me',\n",
              " 'my',\n",
              " 'myself',\n",
              " 'we',\n",
              " 'our',\n",
              " 'ours',\n",
              " 'ourselves',\n",
              " 'you',\n",
              " \"you're\",\n",
              " \"you've\",\n",
              " \"you'll\",\n",
              " \"you'd\",\n",
              " 'your',\n",
              " 'yours',\n",
              " 'yourself',\n",
              " 'yourselves',\n",
              " 'he',\n",
              " 'him',\n",
              " 'his',\n",
              " 'himself',\n",
              " 'she',\n",
              " \"she's\",\n",
              " 'her',\n",
              " 'hers',\n",
              " 'herself',\n",
              " 'it',\n",
              " \"it's\",\n",
              " 'its',\n",
              " 'itself',\n",
              " 'they',\n",
              " 'them',\n",
              " 'their',\n",
              " 'theirs',\n",
              " 'themselves',\n",
              " 'what',\n",
              " 'which',\n",
              " 'who',\n",
              " 'whom',\n",
              " 'this',\n",
              " 'that',\n",
              " \"that'll\",\n",
              " 'these',\n",
              " 'those',\n",
              " 'am',\n",
              " 'is',\n",
              " 'are',\n",
              " 'was',\n",
              " 'were',\n",
              " 'be',\n",
              " 'been',\n",
              " 'being',\n",
              " 'have',\n",
              " 'has',\n",
              " 'had',\n",
              " 'having',\n",
              " 'do',\n",
              " 'does',\n",
              " 'did',\n",
              " 'doing',\n",
              " 'a',\n",
              " 'an',\n",
              " 'the',\n",
              " 'and',\n",
              " 'but',\n",
              " 'if',\n",
              " 'or',\n",
              " 'because',\n",
              " 'as',\n",
              " 'until',\n",
              " 'while',\n",
              " 'of',\n",
              " 'at',\n",
              " 'by',\n",
              " 'for',\n",
              " 'with',\n",
              " 'about',\n",
              " 'against',\n",
              " 'between',\n",
              " 'into',\n",
              " 'through',\n",
              " 'during',\n",
              " 'before',\n",
              " 'after',\n",
              " 'above',\n",
              " 'below',\n",
              " 'to',\n",
              " 'from',\n",
              " 'up',\n",
              " 'down',\n",
              " 'in',\n",
              " 'out',\n",
              " 'on',\n",
              " 'off',\n",
              " 'over',\n",
              " 'under',\n",
              " 'again',\n",
              " 'further',\n",
              " 'then',\n",
              " 'once',\n",
              " 'here',\n",
              " 'there',\n",
              " 'when',\n",
              " 'where',\n",
              " 'why',\n",
              " 'how',\n",
              " 'all',\n",
              " 'any',\n",
              " 'both',\n",
              " 'each',\n",
              " 'few',\n",
              " 'more',\n",
              " 'most',\n",
              " 'other',\n",
              " 'some',\n",
              " 'such',\n",
              " 'no',\n",
              " 'nor',\n",
              " 'not',\n",
              " 'only',\n",
              " 'own',\n",
              " 'same',\n",
              " 'so',\n",
              " 'than',\n",
              " 'too',\n",
              " 'very',\n",
              " 's',\n",
              " 't',\n",
              " 'can',\n",
              " 'will',\n",
              " 'just',\n",
              " 'don',\n",
              " \"don't\",\n",
              " 'should',\n",
              " \"should've\",\n",
              " 'now',\n",
              " 'd',\n",
              " 'll',\n",
              " 'm',\n",
              " 'o',\n",
              " 're',\n",
              " 've',\n",
              " 'y',\n",
              " 'ain',\n",
              " 'aren',\n",
              " \"aren't\",\n",
              " 'couldn',\n",
              " \"couldn't\",\n",
              " 'didn',\n",
              " \"didn't\",\n",
              " 'doesn',\n",
              " \"doesn't\",\n",
              " 'hadn',\n",
              " \"hadn't\",\n",
              " 'hasn',\n",
              " \"hasn't\",\n",
              " 'haven',\n",
              " \"haven't\",\n",
              " 'isn',\n",
              " \"isn't\",\n",
              " 'ma',\n",
              " 'mightn',\n",
              " \"mightn't\",\n",
              " 'mustn',\n",
              " \"mustn't\",\n",
              " 'needn',\n",
              " \"needn't\",\n",
              " 'shan',\n",
              " \"shan't\",\n",
              " 'shouldn',\n",
              " \"shouldn't\",\n",
              " 'wasn',\n",
              " \"wasn't\",\n",
              " 'weren',\n",
              " \"weren't\",\n",
              " 'won',\n",
              " \"won't\",\n",
              " 'wouldn',\n",
              " \"wouldn't\"]"
            ]
          },
          "metadata": {},
          "execution_count": 11
        }
      ]
    },
    {
      "cell_type": "code",
      "source": [
        "#Lemmitization\n",
        "from nltk.stem import WordNetLemmatizer\n",
        "from nltk.corpus import stopwords"
      ],
      "metadata": {
        "id": "7b-A3hO9lgX1"
      },
      "execution_count": null,
      "outputs": []
    },
    {
      "cell_type": "code",
      "source": [
        "lemmatizer = WordNetLemmatizer()\n",
        "nltk.download('wordnet')"
      ],
      "metadata": {
        "colab": {
          "base_uri": "https://localhost:8080/"
        },
        "id": "vF_nyiPSmUTC",
        "outputId": "9f1cf489-b8f9-448c-a9f8-6e32523db76b"
      },
      "execution_count": null,
      "outputs": [
        {
          "output_type": "stream",
          "name": "stderr",
          "text": [
            "[nltk_data] Downloading package wordnet to /root/nltk_data...\n"
          ]
        },
        {
          "output_type": "execute_result",
          "data": {
            "text/plain": [
              "True"
            ]
          },
          "metadata": {},
          "execution_count": 15
        }
      ]
    },
    {
      "cell_type": "code",
      "source": [
        "for i in range(len(sentences)): #range would be between 0 to len of paragraph\n",
        "  words = nltk.word_tokenize(sentences[i]) #then we tokeize each word from the sentences\n",
        "  words = [lemmatizer.lemmatize(word) for word in words if word not in set(stopwords.words('english'))] #for each and every word in words we iterate .Set will help us to take only the unique set of stop words in english language.\n",
        "  sentences[i] = ' '.join(words) #so it compares if the word in the sentence belongs to english stop words or not. If it doesn not then only it is going to go and do the stem.Finally join the words to form a sentence.\n"
      ],
      "metadata": {
        "id": "ZmbUNOoJmeuU"
      },
      "execution_count": null,
      "outputs": []
    },
    {
      "cell_type": "code",
      "source": [
        "sentences"
      ],
      "metadata": {
        "colab": {
          "base_uri": "https://localhost:8080/"
        },
        "id": "h7otDccqm8IV",
        "outputId": "6fce0540-53ab-4dbe-f3f9-d8e32244e230"
      },
      "execution_count": null,
      "outputs": [
        {
          "output_type": "execute_result",
          "data": {
            "text/plain": [
              "['Humans communicate form language either text speech .',\n",
              " 'Now make interaction computer human , computer need understand natural language used human .',\n",
              " 'Natural language processing making computer learn , process , manipulate natural language .']"
            ]
          },
          "metadata": {},
          "execution_count": 17
        }
      ]
    },
    {
      "cell_type": "code",
      "source": [
        "words"
      ],
      "metadata": {
        "colab": {
          "base_uri": "https://localhost:8080/"
        },
        "id": "2qkgT83-nbmU",
        "outputId": "cf6eeafa-c0f5-4b6b-b9c7-7a440a22b5d8"
      },
      "execution_count": null,
      "outputs": [
        {
          "output_type": "execute_result",
          "data": {
            "text/plain": [
              "['Natural',\n",
              " 'language',\n",
              " 'processing',\n",
              " 'making',\n",
              " 'computer',\n",
              " 'learn',\n",
              " ',',\n",
              " 'process',\n",
              " ',',\n",
              " 'manipulate',\n",
              " 'natural',\n",
              " 'language',\n",
              " '.']"
            ]
          },
          "metadata": {},
          "execution_count": 18
        }
      ]
    },
    {
      "cell_type": "code",
      "source": [
        "import nltk"
      ],
      "metadata": {
        "id": "nW35D7bKn-NC"
      },
      "execution_count": null,
      "outputs": []
    },
    {
      "cell_type": "code",
      "source": [
        "nltk.download('punkt')\n",
        "nltk.download('stopwords')"
      ],
      "metadata": {
        "colab": {
          "base_uri": "https://localhost:8080/"
        },
        "id": "AS1vjLwjGt6y",
        "outputId": "ba5b3bf7-a7c4-4d19-fc46-8c0d4e292cd4"
      },
      "execution_count": null,
      "outputs": [
        {
          "output_type": "stream",
          "name": "stderr",
          "text": [
            "[nltk_data] Downloading package punkt to /root/nltk_data...\n",
            "[nltk_data]   Unzipping tokenizers/punkt.zip.\n",
            "[nltk_data] Downloading package stopwords to /root/nltk_data...\n",
            "[nltk_data]   Unzipping corpora/stopwords.zip.\n"
          ]
        },
        {
          "output_type": "execute_result",
          "data": {
            "text/plain": [
              "True"
            ]
          },
          "metadata": {},
          "execution_count": 2
        }
      ]
    },
    {
      "cell_type": "code",
      "source": [
        "#now porterstemmer and WordNetLemmatizer for stemming and lemmatization\n",
        "from nltk.stem import PorterStemmer\n",
        "from nltk.stem import WordNetLemmatizer"
      ],
      "metadata": {
        "id": "cSAuTu9yG_L9"
      },
      "execution_count": null,
      "outputs": []
    },
    {
      "cell_type": "code",
      "source": [
        "from nltk.corpus import stopwords #stopwords we need so that we can remove the unnecessary words\n"
      ],
      "metadata": {
        "id": "mdUfCRGNHcc8"
      },
      "execution_count": null,
      "outputs": []
    },
    {
      "cell_type": "code",
      "source": [
        "nltk.download('wordnet')"
      ],
      "metadata": {
        "colab": {
          "base_uri": "https://localhost:8080/"
        },
        "id": "1yEu8njaHlxd",
        "outputId": "f0260439-9d1b-4a42-bc84-42d0081bb17d"
      },
      "execution_count": null,
      "outputs": [
        {
          "output_type": "stream",
          "name": "stderr",
          "text": [
            "[nltk_data] Downloading package wordnet to /root/nltk_data...\n",
            "[nltk_data]   Package wordnet is already up-to-date!\n"
          ]
        },
        {
          "output_type": "execute_result",
          "data": {
            "text/plain": [
              "True"
            ]
          },
          "metadata": {},
          "execution_count": 21
        }
      ]
    },
    {
      "cell_type": "code",
      "source": [
        "paragraph = 'The electric vehicles industry at a nascent stage in India. It is less than 1% of the total vehicle sales however has the potential to grow to more than 5% in a few years. At present there are more than 5 lac electric two-wheelers and few thousand electric cars on Indian roads. The industry volumes have been fluctuating, mostly depending on the incentives offered by the government. Many serious players (Hero Eco, Ather, Electrotherm, Avon, Lohia, Ampere, etc) are continuing with the mission and trying to enforce the positive change under the banner of SMEV.more than 90% of electric vehicles on Indian roads are low-speed electric scooters (less than 25km/hr) that do not require registration and licenses. Almost all electric scooters run on lead batteries to keep the prices low, however, battery failures and low life of batteries have become major limiting factors for sales besides government subsidies. Many manufacturers have taken initiatives to install the charging station with limited success. Players like Lohia and Electrotherm have developed Electric three-wheelers. Ampere and Hero have entered Electric Cycles segments. There are numbers of E-Rickshaw players mushrooming across the country and selling good numbers of E rickshaw for last-mile connectivity.'"
      ],
      "metadata": {
        "id": "aPb_JCLNH7aU"
      },
      "execution_count": null,
      "outputs": []
    },
    {
      "cell_type": "code",
      "source": [
        "paragraph"
      ],
      "metadata": {
        "colab": {
          "base_uri": "https://localhost:8080/",
          "height": 123
        },
        "id": "vwaCm7itJb4m",
        "outputId": "0bdd51bb-201d-42d1-f1cb-8d8d906634fd"
      },
      "execution_count": null,
      "outputs": [
        {
          "output_type": "execute_result",
          "data": {
            "text/plain": [
              "'The electric vehicles industry at a nascent stage in India. It is less than 1% of the total vehicle sales however has the potential to grow to more than 5% in a few years. At present there are more than 5 lac electric two-wheelers and few thousand electric cars on Indian roads. The industry volumes have been fluctuating, mostly depending on the incentives offered by the government. Many serious players (Hero Eco, Ather, Electrotherm, Avon, Lohia, Ampere, etc) are continuing with the mission and trying to enforce the positive change under the banner of SMEV.more than 90% of electric vehicles on Indian roads are low-speed electric scooters (less than 25km/hr) that do not require registration and licenses. Almost all electric scooters run on lead batteries to keep the prices low, however, battery failures and low life of batteries have become major limiting factors for sales besides government subsidies. Many manufacturers have taken initiatives to install the charging station with limited success. Players like Lohia and Electrotherm have developed Electric three-wheelers. Ampere and Hero have entered Electric Cycles segments. There are numbers of E-Rickshaw players mushrooming across the country and selling good numbers of E rickshaw for last-mile connectivity.'"
            ],
            "application/vnd.google.colaboratory.intrinsic+json": {
              "type": "string"
            }
          },
          "metadata": {},
          "execution_count": 17
        }
      ]
    },
    {
      "cell_type": "code",
      "source": [
        "#so first thing we need to do is lowering the text so that all are in same case. cleaning involves lowering sentences, removing commos and other stop words\n",
        "#Cleaning the text\n",
        "import re #regular expression. after this import porter stemmer and wordnetlemmatizer\n",
        "ps = PorterStemmer()\n",
        "ls = WordNetLemmatizer()"
      ],
      "metadata": {
        "id": "ND26x-faJdke"
      },
      "execution_count": null,
      "outputs": []
    },
    {
      "cell_type": "code",
      "source": [
        "sentences = nltk.sent_tokenize(paragraph) #it converts the paragraph in the a list of sentences seperated by full stops.\n",
        "sentences"
      ],
      "metadata": {
        "colab": {
          "base_uri": "https://localhost:8080/"
        },
        "id": "8ks17nGQKreK",
        "outputId": "085a3bbc-1bda-4e67-c621-41ec97e6c693"
      },
      "execution_count": null,
      "outputs": [
        {
          "output_type": "execute_result",
          "data": {
            "text/plain": [
              "['The electric vehicles industry at a nascent stage in India.',\n",
              " 'It is less than 1% of the total vehicle sales however has the potential to grow to more than 5% in a few years.',\n",
              " 'At present there are more than 5 lac electric two-wheelers and few thousand electric cars on Indian roads.',\n",
              " 'The industry volumes have been fluctuating, mostly depending on the incentives offered by the government.',\n",
              " 'Many serious players (Hero Eco, Ather, Electrotherm, Avon, Lohia, Ampere, etc) are continuing with the mission and trying to enforce the positive change under the banner of SMEV.more than 90% of electric vehicles on Indian roads are low-speed electric scooters (less than 25km/hr) that do not require registration and licenses.',\n",
              " 'Almost all electric scooters run on lead batteries to keep the prices low, however, battery failures and low life of batteries have become major limiting factors for sales besides government subsidies.',\n",
              " 'Many manufacturers have taken initiatives to install the charging station with limited success.',\n",
              " 'Players like Lohia and Electrotherm have developed Electric three-wheelers.',\n",
              " 'Ampere and Hero have entered Electric Cycles segments.',\n",
              " 'There are numbers of E-Rickshaw players mushrooming across the country and selling good numbers of E rickshaw for last-mile connectivity.']"
            ]
          },
          "metadata": {},
          "execution_count": 18
        }
      ]
    },
    {
      "cell_type": "code",
      "source": [
        "corpus = [] #we have created this as after cleaning the texts we will save the text in this list\n",
        "for i in range(len(sentences)): #repeat for each sentence in the paragraph\n",
        "  review = re.sub('[^a-zA-Z]',' ',sentences[i]) #substititue everything with space except a-z and A-Z so that means only words will remove everything will get removed.\n",
        "  review = review.lower() #lower the sentences\n",
        "  review = review.split() #split the sentences to get the list of words\n",
        "  review = [ps.stem(word) for word in review if not word in set(stopwords.words('english'))] #if the word is not in stopwords then we will do stemming on that.\n",
        "  review = ' '.join(review) #we join all the words in review\n",
        "  corpus.append(review) #append all the words in corpus"
      ],
      "metadata": {
        "id": "3aXqHywzLaGM"
      },
      "execution_count": null,
      "outputs": []
    },
    {
      "cell_type": "code",
      "source": [
        "corpus"
      ],
      "metadata": {
        "colab": {
          "base_uri": "https://localhost:8080/"
        },
        "id": "ENuETGnhOiWF",
        "outputId": "af27dd86-819e-4642-f132-4ebfe93d5075"
      },
      "execution_count": null,
      "outputs": [
        {
          "output_type": "execute_result",
          "data": {
            "text/plain": [
              "['electr vehicl industri nascent stage india',\n",
              " 'less total vehicl sale howev potenti grow year',\n",
              " 'present lac electr two wheeler thousand electr car indian road',\n",
              " 'industri volum fluctuat mostli depend incent offer govern',\n",
              " 'mani seriou player hero eco ather electrotherm avon lohia amper etc continu mission tri enforc posit chang banner smev electr vehicl indian road low speed electr scooter less km hr requir registr licens',\n",
              " 'almost electr scooter run lead batteri keep price low howev batteri failur low life batteri becom major limit factor sale besid govern subsidi',\n",
              " 'mani manufactur taken initi instal charg station limit success',\n",
              " 'player like lohia electrotherm develop electr three wheeler',\n",
              " 'amper hero enter electr cycl segment',\n",
              " 'number e rickshaw player mushroom across countri sell good number e rickshaw last mile connect']"
            ]
          },
          "metadata": {},
          "execution_count": 12
        }
      ]
    },
    {
      "cell_type": "code",
      "source": [
        "sentences"
      ],
      "metadata": {
        "colab": {
          "base_uri": "https://localhost:8080/"
        },
        "id": "PTVUNC6uOnkw",
        "outputId": "faa728ec-9e7e-4427-8c9a-4468a1cc258f"
      },
      "execution_count": null,
      "outputs": [
        {
          "output_type": "execute_result",
          "data": {
            "text/plain": [
              "['The electric vehicles industry at a nascent stage in India.',\n",
              " 'It is less than 1% of the total vehicle sales however has the potential to grow to more than 5% in a few years.',\n",
              " 'At present there are more than 5 lac electric two-wheelers and few thousand electric cars on Indian roads.',\n",
              " 'The industry volumes have been fluctuating, mostly depending on the incentives offered by the government.',\n",
              " 'Many serious players (Hero Eco, Ather, Electrotherm, Avon, Lohia, Ampere, etc) are continuing with the mission and trying to enforce the positive change under the banner of SMEV.more than 90% of electric vehicles on Indian roads are low-speed electric scooters (less than 25km/hr) that do not require registration and licenses.',\n",
              " 'Almost all electric scooters run on lead batteries to keep the prices low, however, battery failures and low life of batteries have become major limiting factors for sales besides government subsidies.',\n",
              " 'Many manufacturers have taken initiatives to install the charging station with limited success.',\n",
              " 'Players like Lohia and Electrotherm have developed Electric three-wheelers.',\n",
              " 'Ampere and Hero have entered Electric Cycles segments.',\n",
              " 'There are numbers of E-Rickshaw players mushrooming across the country and selling good numbers of E rickshaw for last-mile connectivity.']"
            ]
          },
          "metadata": {},
          "execution_count": 13
        }
      ]
    },
    {
      "cell_type": "code",
      "source": [
        "corps = [] #we have created this as after cleaning the texts we will save the text in this list\n",
        "for i in range(len(sentences)): #repeat for each sentence in the paragraph\n",
        "  review = re.sub('[^a-zA-Z]',' ',sentences[i]) #substititue everything with space except a-z and A-Z so that means only words will remove everything will get removed.\n",
        "  review = review.lower() #lower the sentences\n",
        "  review = review.split() #split the sentences to get the list of words\n",
        "  review = [ls.lemmatize(word) for word in review if not word in set(stopwords.words('english'))] #if the word is not in stopwords then we will do stemming on that.\n",
        "  review = ' '.join(review) #we join all the words in review\n",
        "  corps.append(review) #append all the words in corpus"
      ],
      "metadata": {
        "id": "sx8maBoDOs5P"
      },
      "execution_count": null,
      "outputs": []
    },
    {
      "cell_type": "code",
      "source": [
        "corps"
      ],
      "metadata": {
        "colab": {
          "base_uri": "https://localhost:8080/"
        },
        "id": "zUhNQADcQMzg",
        "outputId": "30f40f23-abad-4d83-d790-7c5f14b352bd"
      },
      "execution_count": null,
      "outputs": [
        {
          "output_type": "execute_result",
          "data": {
            "text/plain": [
              "['electric vehicle industry nascent stage india',\n",
              " 'le total vehicle sale however potential grow year',\n",
              " 'present lac electric two wheeler thousand electric car indian road',\n",
              " 'industry volume fluctuating mostly depending incentive offered government',\n",
              " 'many serious player hero eco ather electrotherm avon lohia ampere etc continuing mission trying enforce positive change banner smev electric vehicle indian road low speed electric scooter le km hr require registration license',\n",
              " 'almost electric scooter run lead battery keep price low however battery failure low life battery become major limiting factor sale besides government subsidy',\n",
              " 'many manufacturer taken initiative install charging station limited success',\n",
              " 'player like lohia electrotherm developed electric three wheeler',\n",
              " 'ampere hero entered electric cycle segment',\n",
              " 'number e rickshaw player mushrooming across country selling good number e rickshaw last mile connectivity']"
            ]
          },
          "metadata": {},
          "execution_count": 24
        }
      ]
    },
    {
      "cell_type": "code",
      "source": [
        "sentences"
      ],
      "metadata": {
        "colab": {
          "base_uri": "https://localhost:8080/"
        },
        "id": "bKLeGQbLQOeZ",
        "outputId": "62d41dc7-29c8-4d48-c536-bf28f327ea04"
      },
      "execution_count": null,
      "outputs": [
        {
          "output_type": "execute_result",
          "data": {
            "text/plain": [
              "['The electric vehicles industry at a nascent stage in India.',\n",
              " 'It is less than 1% of the total vehicle sales however has the potential to grow to more than 5% in a few years.',\n",
              " 'At present there are more than 5 lac electric two-wheelers and few thousand electric cars on Indian roads.',\n",
              " 'The industry volumes have been fluctuating, mostly depending on the incentives offered by the government.',\n",
              " 'Many serious players (Hero Eco, Ather, Electrotherm, Avon, Lohia, Ampere, etc) are continuing with the mission and trying to enforce the positive change under the banner of SMEV.more than 90% of electric vehicles on Indian roads are low-speed electric scooters (less than 25km/hr) that do not require registration and licenses.',\n",
              " 'Almost all electric scooters run on lead batteries to keep the prices low, however, battery failures and low life of batteries have become major limiting factors for sales besides government subsidies.',\n",
              " 'Many manufacturers have taken initiatives to install the charging station with limited success.',\n",
              " 'Players like Lohia and Electrotherm have developed Electric three-wheelers.',\n",
              " 'Ampere and Hero have entered Electric Cycles segments.',\n",
              " 'There are numbers of E-Rickshaw players mushrooming across the country and selling good numbers of E rickshaw for last-mile connectivity.']"
            ]
          },
          "metadata": {},
          "execution_count": 25
        }
      ]
    },
    {
      "cell_type": "code",
      "source": [
        "#creating bag of words. bag of words is a document matrix\n",
        "from sklearn.feature_extraction.text import CountVectorizer #CountVectorize library does all the word of creating matrix and it is present in sklearn. It is a data preprocessing library.\n",
        "cv = CountVectorizer() #after importing countvectorizer we create an object of it.\n",
        "x = cv.fit_transform(corpus).toarray() #fittranform is responsible for creating the matrix. We apply fit transform on the corpus.Then convert it to array."
      ],
      "metadata": {
        "id": "HyCXiXgSQ8f3"
      },
      "execution_count": null,
      "outputs": []
    },
    {
      "cell_type": "code",
      "source": [
        "#once we execute all the text in corpus will get changed to vector haveing binary representation of words.\n",
        "x"
      ],
      "metadata": {
        "colab": {
          "base_uri": "https://localhost:8080/"
        },
        "id": "_zhJhDtOS7hn",
        "outputId": "0ed0461e-f7e2-42c6-93b2-c1bc89bef009"
      },
      "execution_count": null,
      "outputs": [
        {
          "output_type": "execute_result",
          "data": {
            "text/plain": [
              "array([[0, 0, 0, 0, 0, 0, 0, 0, 0, 0, 0, 0, 0, 0, 0, 0, 0, 0, 0, 1, 0, 0,\n",
              "        0, 0, 0, 0, 0, 0, 0, 0, 0, 0, 0, 0, 1, 0, 1, 0, 0, 0, 0, 0, 0, 0,\n",
              "        0, 0, 0, 0, 0, 0, 0, 0, 0, 0, 0, 0, 0, 0, 1, 0, 0, 0, 0, 0, 0, 0,\n",
              "        0, 0, 0, 0, 0, 0, 0, 0, 0, 0, 0, 0, 1, 0, 0, 0, 0, 0, 0, 0, 0, 0,\n",
              "        1, 0, 0, 0],\n",
              "       [0, 0, 0, 0, 0, 0, 0, 0, 0, 0, 0, 0, 0, 0, 0, 0, 0, 0, 0, 0, 0, 0,\n",
              "        0, 0, 0, 0, 0, 0, 0, 1, 0, 1, 0, 0, 0, 0, 0, 0, 0, 0, 0, 0, 0, 0,\n",
              "        1, 0, 0, 0, 0, 0, 0, 0, 0, 0, 0, 0, 0, 0, 0, 0, 0, 0, 0, 1, 0, 0,\n",
              "        0, 0, 0, 0, 0, 1, 0, 0, 0, 0, 0, 0, 0, 0, 0, 0, 0, 0, 0, 1, 0, 0,\n",
              "        1, 0, 0, 1],\n",
              "       [0, 0, 0, 0, 0, 0, 0, 0, 0, 1, 0, 0, 0, 0, 0, 0, 0, 0, 0, 2, 0, 0,\n",
              "        0, 0, 0, 0, 0, 0, 0, 0, 0, 0, 0, 0, 0, 1, 0, 0, 0, 0, 0, 1, 0, 0,\n",
              "        0, 0, 0, 0, 0, 0, 0, 0, 0, 0, 0, 0, 0, 0, 0, 0, 0, 0, 0, 0, 1, 0,\n",
              "        0, 0, 0, 1, 0, 0, 0, 0, 0, 0, 0, 0, 0, 0, 0, 0, 0, 1, 0, 0, 0, 1,\n",
              "        0, 0, 1, 0],\n",
              "       [0, 0, 0, 0, 0, 0, 0, 0, 0, 0, 0, 0, 0, 0, 0, 0, 1, 0, 0, 0, 0, 0,\n",
              "        0, 0, 0, 0, 1, 0, 1, 0, 0, 0, 0, 1, 0, 0, 1, 0, 0, 0, 0, 0, 0, 0,\n",
              "        0, 0, 0, 0, 0, 0, 0, 0, 0, 0, 0, 0, 1, 0, 0, 0, 1, 0, 0, 0, 0, 0,\n",
              "        0, 0, 0, 0, 0, 0, 0, 0, 0, 0, 0, 0, 0, 0, 0, 0, 0, 0, 0, 0, 0, 0,\n",
              "        0, 1, 0, 0],\n",
              "       [0, 0, 1, 1, 1, 1, 0, 0, 0, 0, 1, 0, 0, 1, 0, 0, 0, 0, 1, 2, 1, 1,\n",
              "        0, 1, 0, 0, 0, 0, 0, 0, 1, 0, 1, 0, 0, 1, 0, 0, 0, 0, 1, 0, 0, 0,\n",
              "        1, 1, 0, 0, 0, 1, 1, 0, 1, 0, 0, 1, 0, 0, 0, 0, 0, 1, 1, 0, 0, 0,\n",
              "        1, 1, 0, 1, 0, 0, 1, 0, 0, 1, 1, 1, 0, 0, 0, 0, 0, 0, 0, 0, 1, 0,\n",
              "        1, 0, 0, 0],\n",
              "       [0, 1, 0, 0, 0, 0, 3, 1, 1, 0, 0, 0, 0, 0, 0, 0, 0, 0, 0, 1, 0, 0,\n",
              "        0, 0, 1, 1, 0, 0, 1, 0, 0, 1, 0, 0, 0, 0, 0, 0, 0, 1, 0, 0, 0, 1,\n",
              "        0, 0, 1, 0, 1, 0, 2, 1, 0, 0, 0, 0, 0, 0, 0, 0, 0, 0, 0, 0, 0, 1,\n",
              "        0, 0, 0, 0, 1, 1, 1, 0, 0, 0, 0, 0, 0, 0, 1, 0, 0, 0, 0, 0, 0, 0,\n",
              "        0, 0, 0, 0],\n",
              "       [0, 0, 0, 0, 0, 0, 0, 0, 0, 0, 0, 1, 0, 0, 0, 0, 0, 0, 0, 0, 0, 0,\n",
              "        0, 0, 0, 0, 0, 0, 0, 0, 0, 0, 0, 0, 0, 0, 0, 1, 1, 0, 0, 0, 0, 0,\n",
              "        0, 0, 0, 0, 1, 0, 0, 0, 1, 1, 0, 0, 0, 0, 0, 0, 0, 0, 0, 0, 0, 0,\n",
              "        0, 0, 0, 0, 0, 0, 0, 0, 0, 0, 0, 0, 0, 1, 0, 1, 1, 0, 0, 0, 0, 0,\n",
              "        0, 0, 0, 0],\n",
              "       [0, 0, 0, 0, 0, 0, 0, 0, 0, 0, 0, 0, 0, 0, 0, 0, 0, 1, 0, 1, 1, 0,\n",
              "        0, 0, 0, 0, 0, 0, 0, 0, 0, 0, 0, 0, 0, 0, 0, 0, 0, 0, 0, 0, 0, 0,\n",
              "        0, 0, 0, 1, 0, 1, 0, 0, 0, 0, 0, 0, 0, 0, 0, 0, 0, 1, 0, 0, 0, 0,\n",
              "        0, 0, 0, 0, 0, 0, 0, 0, 0, 0, 0, 0, 0, 0, 0, 0, 0, 0, 1, 0, 0, 0,\n",
              "        0, 0, 1, 0],\n",
              "       [0, 0, 1, 0, 0, 0, 0, 0, 0, 0, 0, 0, 0, 0, 0, 1, 0, 0, 0, 1, 0, 0,\n",
              "        1, 0, 0, 0, 0, 0, 0, 0, 1, 0, 0, 0, 0, 0, 0, 0, 0, 0, 0, 0, 0, 0,\n",
              "        0, 0, 0, 0, 0, 0, 0, 0, 0, 0, 0, 0, 0, 0, 0, 0, 0, 0, 0, 0, 0, 0,\n",
              "        0, 0, 0, 0, 0, 0, 0, 1, 0, 0, 0, 0, 0, 0, 0, 0, 0, 0, 0, 0, 0, 0,\n",
              "        0, 0, 0, 0],\n",
              "       [1, 0, 0, 0, 0, 0, 0, 0, 0, 0, 0, 0, 1, 0, 1, 0, 0, 0, 0, 0, 0, 0,\n",
              "        0, 0, 0, 0, 0, 1, 0, 0, 0, 0, 0, 0, 0, 0, 0, 0, 0, 0, 0, 0, 1, 0,\n",
              "        0, 0, 0, 0, 0, 0, 0, 0, 0, 0, 1, 0, 0, 1, 0, 2, 0, 1, 0, 0, 0, 0,\n",
              "        0, 0, 2, 0, 0, 0, 0, 0, 1, 0, 0, 0, 0, 0, 0, 0, 0, 0, 0, 0, 0, 0,\n",
              "        0, 0, 0, 0]])"
            ]
          },
          "metadata": {},
          "execution_count": 32
        }
      ]
    },
    {
      "cell_type": "code",
      "source": [],
      "metadata": {
        "id": "WMNw1CqZTFo8"
      },
      "execution_count": null,
      "outputs": []
    }
  ]
}